{
 "cells": [
  {
   "cell_type": "code",
   "execution_count": 1,
   "id": "48f7f555",
   "metadata": {},
   "outputs": [],
   "source": [
    "import numpy as np\n",
    "import matplotlib.pyplot as plt"
   ]
  },
  {
   "cell_type": "markdown",
   "id": "e4e4053c",
   "metadata": {},
   "source": [
    "##### Array"
   ]
  },
  {
   "cell_type": "code",
   "execution_count": null,
   "id": "b38dcc67",
   "metadata": {},
   "outputs": [
    {
     "name": "stdout",
     "output_type": "stream",
     "text": [
      "[1 2 3]\n",
      "\n",
      "\n",
      "[[1 2 3]\n",
      " [2 3 4]]\n",
      "\n",
      "\n",
      "[[1 2]\n",
      " [2 3]\n",
      " [3 4]]\n",
      "\n",
      "\n",
      "[[[1 2]\n",
      "  [2 3]\n",
      "  [3 4]]\n",
      "\n",
      " [[2 3]\n",
      "  [3 4]\n",
      "  [4 5]]]\n"
     ]
    }
   ],
   "source": [
    "a = np.array([1,2,3])\n",
    "print(a)\n",
    "print('\\n')\n",
    "b = np.array([[1, 2, 3], [2, 3, 4]])\n",
    "print(b)\n",
    "print('\\n')\n",
    "c = np.array([[1, 2], [2, 3], [3, 4]])\n",
    "print(c)\n",
    "## 2차원 만들고 쌓아감\n",
    "d = np.array([[[1,2], [2, 3], [3, 4]], [[2, 3], [3, 4], [4, 5]]])\n",
    "print('\\n')\n",
    "print(d)"
   ]
  },
  {
   "cell_type": "code",
   "execution_count": 29,
   "id": "5ba57483",
   "metadata": {},
   "outputs": [
    {
     "name": "stdout",
     "output_type": "stream",
     "text": [
      "(3,)\n",
      "\n",
      "\n",
      "(2, 3)\n",
      "\n",
      "\n",
      "(3, 2)\n",
      "\n",
      "\n",
      "(2, 3, 2)\n"
     ]
    }
   ],
   "source": [
    "print(a.shape)\n",
    "print('\\n')\n",
    "print(b.shape)\n",
    "print('\\n')\n",
    "print(c.shape)\n",
    "print('\\n')\n",
    "print(d.shape)"
   ]
  },
  {
   "cell_type": "code",
   "execution_count": 32,
   "id": "adfa0f12",
   "metadata": {},
   "outputs": [
    {
     "name": "stdout",
     "output_type": "stream",
     "text": [
      "[[[ 0  1  2]\n",
      "  [ 3  4  5]\n",
      "  [ 6  7  8]\n",
      "  [ 9 10 11]]\n",
      "\n",
      " [[12 13 14]\n",
      "  [15 16 17]\n",
      "  [18 19 20]\n",
      "  [21 22 23]]\n",
      "\n",
      " [[24 25 26]\n",
      "  [27 28 29]\n",
      "  [30 31 32]\n",
      "  [33 34 35]]]\n",
      "\n",
      "\n",
      "(3, 4, 3)\n"
     ]
    }
   ],
   "source": [
    "v = np.arange(36).reshape(3,4,3)\n",
    "print(v)\n",
    "print('\\n')\n",
    "print(v.shape)"
   ]
  },
  {
   "cell_type": "code",
   "execution_count": 37,
   "id": "837c0155",
   "metadata": {},
   "outputs": [
    {
     "name": "stdout",
     "output_type": "stream",
     "text": [
      "(4, 3)\n",
      "[[36 39 42]\n",
      " [45 48 51]\n",
      " [54 57 60]\n",
      " [63 66 69]]\n",
      "\n",
      "\n",
      "(3, 3)\n",
      "[[ 18  22  26]\n",
      " [ 66  70  74]\n",
      " [114 118 122]]\n",
      "\n",
      "\n",
      "(3, 4)\n",
      "[[  3  12  21  30]\n",
      " [ 39  48  57  66]\n",
      " [ 75  84  93 102]]\n",
      "\n",
      "\n"
     ]
    }
   ],
   "source": [
    "print(np.sum(v, axis=0).shape)\n",
    "print(np.sum(v, axis=0))\n",
    "print('\\n')\n",
    "print(np.sum(v, axis=1).shape)\n",
    "print(np.sum(v, axis=1))\n",
    "print('\\n')\n",
    "print(np.sum(v, axis=2).shape)\n",
    "print(np.sum(v,axis=2))\n",
    "print('\\n')"
   ]
  },
  {
   "cell_type": "code",
   "execution_count": 38,
   "id": "ede61a08",
   "metadata": {},
   "outputs": [
    {
     "name": "stdout",
     "output_type": "stream",
     "text": [
      "0 1\n",
      "1 2\n",
      "2 3\n",
      "3 4\n",
      "4 5\n",
      "5 6\n",
      "6 7\n"
     ]
    }
   ],
   "source": [
    "ab = [1, 2, 3, 4, 5, 6, 7]\n",
    "for i, number in enumerate(ab):\n",
    "    print(i, number)"
   ]
  },
  {
   "cell_type": "markdown",
   "id": "29b06aaf",
   "metadata": {},
   "source": [
    "##### Stack vs Concatenate"
   ]
  },
  {
   "cell_type": "code",
   "execution_count": 44,
   "id": "e42c3f1c",
   "metadata": {},
   "outputs": [],
   "source": [
    "a = np.array([[1, 2],\n",
    "              [3, 4]])\n",
    "b = np.array([[5, 6],\n",
    "              [7, 8]])"
   ]
  },
  {
   "cell_type": "code",
   "execution_count": 47,
   "id": "77376f59",
   "metadata": {},
   "outputs": [
    {
     "name": "stdout",
     "output_type": "stream",
     "text": [
      "[[1 2]\n",
      " [3 4]\n",
      " [5 6]\n",
      " [7 8]]\n",
      "\n",
      "\n",
      "[[1 2 5 6]\n",
      " [3 4 7 8]]\n"
     ]
    }
   ],
   "source": [
    "c1 = np.concatenate((a, b), axis=0)\n",
    "c2 = np.concatenate((a, b), axis=1)\n",
    "print(c1)\n",
    "print('\\n')\n",
    "print(c2)"
   ]
  },
  {
   "cell_type": "code",
   "execution_count": null,
   "id": "aed9faa1",
   "metadata": {},
   "outputs": [
    {
     "name": "stdout",
     "output_type": "stream",
     "text": [
      "[[[1 2]\n",
      "  [3 4]]\n",
      "\n",
      " [[5 6]\n",
      "  [7 8]]]\n",
      "\n",
      "\n",
      "[[[1 2]\n",
      "  [5 6]]\n",
      "\n",
      " [[3 4]\n",
      "  [7 8]]]\n",
      "\n",
      "\n",
      "[[[1 5]\n",
      "  [2 6]]\n",
      "\n",
      " [[3 7]\n",
      "  [4 8]]]\n"
     ]
    }
   ],
   "source": [
    "## 차원 더해주기\n",
    "s1 = np.stack((a, b), axis=0)\n",
    "## 새로운 축이 중간에 생기는 것 // 행간 연결결\n",
    "s2 = np.stack((a, b), axis=1)\n",
    "## 새로운 축이 마지막에 생기는 것 // 위치끼리 생각\n",
    "s3 = np.stack((a, b), axis=2)\n",
    "print(s1)\n",
    "print('\\n')\n",
    "print(s2)\n",
    "print('\\n')\n",
    "print(s3)"
   ]
  }
 ],
 "metadata": {
  "kernelspec": {
   "display_name": "Python 3",
   "language": "python",
   "name": "python3"
  },
  "language_info": {
   "codemirror_mode": {
    "name": "ipython",
    "version": 3
   },
   "file_extension": ".py",
   "mimetype": "text/x-python",
   "name": "python",
   "nbconvert_exporter": "python",
   "pygments_lexer": "ipython3",
   "version": "3.11.8"
  }
 },
 "nbformat": 4,
 "nbformat_minor": 5
}
